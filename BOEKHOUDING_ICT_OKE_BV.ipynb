{
 "cells": [
  {
   "cell_type": "markdown",
   "metadata": {},
   "source": [
    "# Verwerken bestanden van de SNS bank"
   ]
  },
  {
   "cell_type": "markdown",
   "metadata": {},
   "source": [
    "De bestanden bevinden zicht in onderstaande directory:\n",
    "'C:\\\\Users\\hans_\\\\OneDrive - ICT-OKE BV\\\\ICTOK\\\\Facturatie\\\\scans\\\\SNS_CVS\\\\'\n",
    "\n",
    "Als bestansnaam wordt gebruikt:\n",
    "JAN-FEB-MAR-APR-MEI-JUN-JUL-AUG-SEP-OCT-NOV-DEC\n",
    "\n",
    "Bijv.de inkomende file is:\n",
    "MAR-2018.csv\n",
    "De uitgaande file is:\n",
    "MAR-2018-OK.csv"
   ]
  },
  {
   "cell_type": "code",
   "execution_count": 10,
   "metadata": {},
   "outputs": [],
   "source": [
    "import numpy as np \n",
    "import pandas as pd"
   ]
  },
  {
   "cell_type": "code",
   "execution_count": 11,
   "metadata": {},
   "outputs": [],
   "source": [
    "df = pd.read_csv('C:\\\\Users\\hans_\\\\OneDrive - ICT-OKE BV\\\\ICTOK\\\\Facturatie\\\\scans\\\\SNS_CSV\\\\INFILE.csv', header=None) "
   ]
  },
  {
   "cell_type": "code",
   "execution_count": 12,
   "metadata": {},
   "outputs": [
    {
     "data": {
      "text/html": [
       "<div>\n",
       "<style scoped>\n",
       "    .dataframe tbody tr th:only-of-type {\n",
       "        vertical-align: middle;\n",
       "    }\n",
       "\n",
       "    .dataframe tbody tr th {\n",
       "        vertical-align: top;\n",
       "    }\n",
       "\n",
       "    .dataframe thead th {\n",
       "        text-align: right;\n",
       "    }\n",
       "</style>\n",
       "<table border=\"1\" class=\"dataframe\">\n",
       "  <thead>\n",
       "    <tr style=\"text-align: right;\">\n",
       "      <th></th>\n",
       "      <th>0</th>\n",
       "      <th>1</th>\n",
       "      <th>2</th>\n",
       "      <th>3</th>\n",
       "      <th>4</th>\n",
       "      <th>5</th>\n",
       "      <th>6</th>\n",
       "      <th>7</th>\n",
       "      <th>8</th>\n",
       "      <th>9</th>\n",
       "      <th>10</th>\n",
       "      <th>11</th>\n",
       "      <th>12</th>\n",
       "      <th>13</th>\n",
       "      <th>14</th>\n",
       "      <th>15</th>\n",
       "      <th>16</th>\n",
       "      <th>17</th>\n",
       "      <th>18</th>\n",
       "    </tr>\n",
       "  </thead>\n",
       "  <tbody>\n",
       "    <tr>\n",
       "      <th>0</th>\n",
       "      <td>01-03-2018</td>\n",
       "      <td>NL65SNSB0960913483</td>\n",
       "      <td>DE12700202700010011683</td>\n",
       "      <td>allianz nederland levensve</td>\n",
       "      <td>NaN</td>\n",
       "      <td>NaN</td>\n",
       "      <td>NaN</td>\n",
       "      <td>EUR</td>\n",
       "      <td>49818.27</td>\n",
       "      <td>EUR</td>\n",
       "      <td>-334.88</td>\n",
       "      <td>01-03-2018</td>\n",
       "      <td>01-03-2018</td>\n",
       "      <td>9714</td>\n",
       "      <td>INC</td>\n",
       "      <td>31725821</td>\n",
       "      <td>NaN</td>\n",
       "      <td>'Europese incasso door:Allianz Nederland Leven...</td>\n",
       "      <td>5</td>\n",
       "    </tr>\n",
       "    <tr>\n",
       "      <th>1</th>\n",
       "      <td>01-03-2018</td>\n",
       "      <td>NL65SNSB0960913483</td>\n",
       "      <td>BE07220078088066</td>\n",
       "      <td>vloc bvba</td>\n",
       "      <td>NaN</td>\n",
       "      <td>NaN</td>\n",
       "      <td>NaN</td>\n",
       "      <td>EUR</td>\n",
       "      <td>49483.39</td>\n",
       "      <td>EUR</td>\n",
       "      <td>9440.00</td>\n",
       "      <td>01-03-2018</td>\n",
       "      <td>01-03-2018</td>\n",
       "      <td>8809</td>\n",
       "      <td>OVB</td>\n",
       "      <td>31749466</td>\n",
       "      <td>NaN</td>\n",
       "      <td>'BE07220078088066-VLOC BVBA-2018001'</td>\n",
       "      <td>5</td>\n",
       "    </tr>\n",
       "    <tr>\n",
       "      <th>2</th>\n",
       "      <td>02-03-2018</td>\n",
       "      <td>NL65SNSB0960913483</td>\n",
       "      <td>NL86INGB0002445588</td>\n",
       "      <td>belastingdienst</td>\n",
       "      <td>NaN</td>\n",
       "      <td>NaN</td>\n",
       "      <td>NaN</td>\n",
       "      <td>EUR</td>\n",
       "      <td>58923.39</td>\n",
       "      <td>EUR</td>\n",
       "      <td>-3338.00</td>\n",
       "      <td>02-03-2018</td>\n",
       "      <td>02-03-2018</td>\n",
       "      <td>9721</td>\n",
       "      <td>ACC</td>\n",
       "      <td>30397436</td>\n",
       "      <td>'2818592926801010'</td>\n",
       "      <td>'CUR 2818592926801010'</td>\n",
       "      <td>5</td>\n",
       "    </tr>\n",
       "  </tbody>\n",
       "</table>\n",
       "</div>"
      ],
      "text/plain": [
       "           0                   1                       2   \\\n",
       "0  01-03-2018  NL65SNSB0960913483  DE12700202700010011683   \n",
       "1  01-03-2018  NL65SNSB0960913483        BE07220078088066   \n",
       "2  02-03-2018  NL65SNSB0960913483      NL86INGB0002445588   \n",
       "\n",
       "                           3   4   5   6    7         8    9        10  \\\n",
       "0  allianz nederland levensve NaN NaN NaN  EUR  49818.27  EUR  -334.88   \n",
       "1                   vloc bvba NaN NaN NaN  EUR  49483.39  EUR  9440.00   \n",
       "2             belastingdienst NaN NaN NaN  EUR  58923.39  EUR -3338.00   \n",
       "\n",
       "           11          12    13   14        15                  16  \\\n",
       "0  01-03-2018  01-03-2018  9714  INC  31725821                 NaN   \n",
       "1  01-03-2018  01-03-2018  8809  OVB  31749466                 NaN   \n",
       "2  02-03-2018  02-03-2018  9721  ACC  30397436  '2818592926801010'   \n",
       "\n",
       "                                                  17  18  \n",
       "0  'Europese incasso door:Allianz Nederland Leven...   5  \n",
       "1               'BE07220078088066-VLOC BVBA-2018001'   5  \n",
       "2                             'CUR 2818592926801010'   5  "
      ]
     },
     "execution_count": 12,
     "metadata": {},
     "output_type": "execute_result"
    }
   ],
   "source": [
    "df.head(3)"
   ]
  },
  {
   "cell_type": "markdown",
   "metadata": {},
   "source": [
    "Select only the columns you need"
   ]
  },
  {
   "cell_type": "code",
   "execution_count": 13,
   "metadata": {},
   "outputs": [],
   "source": [
    "columns = [0, 2, 3, 17, 10]\n",
    "df1 = df.reindex(columns=columns)"
   ]
  },
  {
   "cell_type": "code",
   "execution_count": 14,
   "metadata": {},
   "outputs": [],
   "source": [
    "df1[10] = df[10].abs()\n",
    "df1[17] = df1[17].str.replace(r\"Europese incasso door:\", \"\")\n",
    "df1[17] = df1[17].str.replace(r\"/TRTP/Zakelijke Europese Incasso/CSID/NL36ZZZ340698640000/NAME/MULTI TANK CARD BV/MARF/34069864MTC001709/REMI/Relatienummer 1709/\", \"\")"
   ]
  },
  {
   "cell_type": "code",
   "execution_count": 16,
   "metadata": {},
   "outputs": [],
   "source": [
    "df1[4] = df1[2].map(str) + \"  \" + df1[3] + \"  \" + df1[17]\n",
    "columns = [0, 10, 4]\n",
    "df2 = df1.reindex(columns=columns)"
   ]
  },
  {
   "cell_type": "code",
   "execution_count": 17,
   "metadata": {},
   "outputs": [
    {
     "data": {
      "text/html": [
       "<div>\n",
       "<style scoped>\n",
       "    .dataframe tbody tr th:only-of-type {\n",
       "        vertical-align: middle;\n",
       "    }\n",
       "\n",
       "    .dataframe tbody tr th {\n",
       "        vertical-align: top;\n",
       "    }\n",
       "\n",
       "    .dataframe thead th {\n",
       "        text-align: right;\n",
       "    }\n",
       "</style>\n",
       "<table border=\"1\" class=\"dataframe\">\n",
       "  <thead>\n",
       "    <tr style=\"text-align: right;\">\n",
       "      <th></th>\n",
       "      <th>0</th>\n",
       "      <th>10</th>\n",
       "      <th>4</th>\n",
       "    </tr>\n",
       "  </thead>\n",
       "  <tbody>\n",
       "    <tr>\n",
       "      <th>0</th>\n",
       "      <td>01-03-2018</td>\n",
       "      <td>334.88</td>\n",
       "      <td>DE12700202700010011683  allianz nederland leve...</td>\n",
       "    </tr>\n",
       "    <tr>\n",
       "      <th>1</th>\n",
       "      <td>01-03-2018</td>\n",
       "      <td>9440.00</td>\n",
       "      <td>BE07220078088066  vloc bvba  'BE07220078088066...</td>\n",
       "    </tr>\n",
       "    <tr>\n",
       "      <th>2</th>\n",
       "      <td>02-03-2018</td>\n",
       "      <td>3338.00</td>\n",
       "      <td>NL86INGB0002445588  belastingdienst  'CUR 2818...</td>\n",
       "    </tr>\n",
       "    <tr>\n",
       "      <th>3</th>\n",
       "      <td>02-03-2018</td>\n",
       "      <td>3338.00</td>\n",
       "      <td>NL86INGB0002445588  belastingdienst  'CUR 9818...</td>\n",
       "    </tr>\n",
       "    <tr>\n",
       "      <th>4</th>\n",
       "      <td>02-03-2018</td>\n",
       "      <td>69.98</td>\n",
       "      <td>NL27INGB0000026500  bol com b v  '455345990001...</td>\n",
       "    </tr>\n",
       "    <tr>\n",
       "      <th>5</th>\n",
       "      <td>05-03-2018</td>\n",
       "      <td>98.79</td>\n",
       "      <td>NL69VOWA0434018236  vvs assuradeuren b.v.  'VV...</td>\n",
       "    </tr>\n",
       "    <tr>\n",
       "      <th>6</th>\n",
       "      <td>05-03-2018</td>\n",
       "      <td>72.36</td>\n",
       "      <td>NL41INGB0000467598  kpn b.v.  'KPN B.V. NL-Fac...</td>\n",
       "    </tr>\n",
       "    <tr>\n",
       "      <th>7</th>\n",
       "      <td>06-03-2018</td>\n",
       "      <td>143.93</td>\n",
       "      <td>NL12COBA0733959555  t-mobile netherlands b.v. ...</td>\n",
       "    </tr>\n",
       "    <tr>\n",
       "      <th>8</th>\n",
       "      <td>07-03-2018</td>\n",
       "      <td>118.12</td>\n",
       "      <td>NL44ABNA0548041814  multi tank card bv  'Factu...</td>\n",
       "    </tr>\n",
       "    <tr>\n",
       "      <th>9</th>\n",
       "      <td>07-03-2018</td>\n",
       "      <td>12.95</td>\n",
       "      <td>NL93ABNA0499028481  woonveilig bv  'WOONVEILIG...</td>\n",
       "    </tr>\n",
       "  </tbody>\n",
       "</table>\n",
       "</div>"
      ],
      "text/plain": [
       "           0        10                                                 4 \n",
       "0  01-03-2018   334.88  DE12700202700010011683  allianz nederland leve...\n",
       "1  01-03-2018  9440.00  BE07220078088066  vloc bvba  'BE07220078088066...\n",
       "2  02-03-2018  3338.00  NL86INGB0002445588  belastingdienst  'CUR 2818...\n",
       "3  02-03-2018  3338.00  NL86INGB0002445588  belastingdienst  'CUR 9818...\n",
       "4  02-03-2018    69.98  NL27INGB0000026500  bol com b v  '455345990001...\n",
       "5  05-03-2018    98.79  NL69VOWA0434018236  vvs assuradeuren b.v.  'VV...\n",
       "6  05-03-2018    72.36  NL41INGB0000467598  kpn b.v.  'KPN B.V. NL-Fac...\n",
       "7  06-03-2018   143.93  NL12COBA0733959555  t-mobile netherlands b.v. ...\n",
       "8  07-03-2018   118.12  NL44ABNA0548041814  multi tank card bv  'Factu...\n",
       "9  07-03-2018    12.95  NL93ABNA0499028481  woonveilig bv  'WOONVEILIG..."
      ]
     },
     "execution_count": 17,
     "metadata": {},
     "output_type": "execute_result"
    }
   ],
   "source": [
    "df2.head(10)"
   ]
  },
  {
   "cell_type": "code",
   "execution_count": 18,
   "metadata": {},
   "outputs": [],
   "source": [
    "writer = pd.ExcelWriter('C:\\\\Users\\hans_\\\\OneDrive - ICT-OKE BV\\\\ICTOK\\\\Facturatie\\\\scans\\\\SNS_CSV\\\\output_{}.xlsx'.format(pd.datetime.today().strftime('%y%m%d-%H%M%S'))) "
   ]
  },
  {
   "cell_type": "code",
   "execution_count": 19,
   "metadata": {},
   "outputs": [],
   "source": [
    "df2.to_excel(writer, index = False)\n",
    "writer.save()"
   ]
  },
  {
   "cell_type": "code",
   "execution_count": null,
   "metadata": {},
   "outputs": [],
   "source": []
  },
  {
   "cell_type": "code",
   "execution_count": null,
   "metadata": {},
   "outputs": [],
   "source": []
  }
 ],
 "metadata": {
  "kernelspec": {
   "display_name": "Python 3",
   "language": "python",
   "name": "python3"
  },
  "language_info": {
   "codemirror_mode": {
    "name": "ipython",
    "version": 3
   },
   "file_extension": ".py",
   "mimetype": "text/x-python",
   "name": "python",
   "nbconvert_exporter": "python",
   "pygments_lexer": "ipython3",
   "version": "3.6.4"
  }
 },
 "nbformat": 4,
 "nbformat_minor": 2
}
